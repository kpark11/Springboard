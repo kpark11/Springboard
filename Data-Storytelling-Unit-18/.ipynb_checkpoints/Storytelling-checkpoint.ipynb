{
 "cells": [
  {
   "cell_type": "code",
   "execution_count": 17,
   "id": "5c0810f2-54ac-4cad-9e07-83023db06124",
   "metadata": {},
   "outputs": [],
   "source": [
    "import pandas as pd\n",
    "import numpy as np\n",
    "import requests\n",
    "import matplotlib.pyplot as plt\n",
    "import seaborn as sns\n",
    "from bs4 import BeautifulSoup\n",
    "import json"
   ]
  },
  {
   "cell_type": "markdown",
   "id": "0fbea722-26f3-4b52-ad14-763d7e91e8e5",
   "metadata": {},
   "source": [
    "# Where do we want to live? <br>\n",
    "\n",
    "Have you considered where to live? Which states offer exactly what you are looking for? Is it the safety? Is it your children's education? Does politics matter? Diversity? Weather? And so on, we can ask so many questions without coming to a definitive answer. <br>\n",
    "\n",
    "We can gather all of the information that we consider to be important in our lives and try to determine which state is the best state to live. Or even further, which cities to live (that is if we have information).\n",
    "\n",
    "We will start by gather some information about crime first."
   ]
  },
  {
   "cell_type": "code",
   "execution_count": 6,
   "id": "a653a070-91e5-4659-a51b-890bde73d0e1",
   "metadata": {},
   "outputs": [],
   "source": [
    "r = requests.get('https://worldpopulationreview.com/states')"
   ]
  },
  {
   "cell_type": "code",
   "execution_count": 12,
   "id": "18b7af83-34b1-4452-840a-e6643c6a9815",
   "metadata": {},
   "outputs": [],
   "source": [
    "soup = BeautifulSoup(r.content, 'html.parser')"
   ]
  },
  {
   "cell_type": "code",
   "execution_count": 18,
   "id": "4e1affa8-20f2-419d-b05d-6a5076a16c4b",
   "metadata": {},
   "outputs": [
    {
     "ename": "TypeError",
     "evalue": "'module' object is not callable",
     "output_type": "error",
     "traceback": [
      "\u001b[1;31m---------------------------------------------------------------------------\u001b[0m",
      "\u001b[1;31mTypeError\u001b[0m                                 Traceback (most recent call last)",
      "Cell \u001b[1;32mIn[18], line 1\u001b[0m\n\u001b[1;32m----> 1\u001b[0m data \u001b[38;5;241m=\u001b[39m json(soup\u001b[38;5;241m.\u001b[39mfind(\u001b[38;5;124m\"\u001b[39m\u001b[38;5;124mdiv\u001b[39m\u001b[38;5;124m\"\u001b[39m,{\u001b[38;5;124m\"\u001b[39m\u001b[38;5;124mclass\u001b[39m\u001b[38;5;124m\"\u001b[39m:\u001b[38;5;124m\"\u001b[39m\u001b[38;5;124mmb-5\u001b[39m\u001b[38;5;124m\"\u001b[39m})\u001b[38;5;241m.\u001b[39mtext)\n\u001b[0;32m      2\u001b[0m \u001b[38;5;28mprint\u001b[39m(data)\n",
      "\u001b[1;31mTypeError\u001b[0m: 'module' object is not callable"
     ]
    }
   ],
   "source": [
    "data = json(soup.find(\"div\",{\"class\":\"mb-5\"}).text)\n",
    "print(data)"
   ]
  },
  {
   "cell_type": "code",
   "execution_count": null,
   "id": "0058fe7f-bb72-43f4-8aaf-0355e2045184",
   "metadata": {},
   "outputs": [],
   "source": []
  }
 ],
 "metadata": {
  "kernelspec": {
   "display_name": "Python 3 (ipykernel)",
   "language": "python",
   "name": "python3"
  },
  "language_info": {
   "codemirror_mode": {
    "name": "ipython",
    "version": 3
   },
   "file_extension": ".py",
   "mimetype": "text/x-python",
   "name": "python",
   "nbconvert_exporter": "python",
   "pygments_lexer": "ipython3",
   "version": "3.11.5"
  }
 },
 "nbformat": 4,
 "nbformat_minor": 5
}
