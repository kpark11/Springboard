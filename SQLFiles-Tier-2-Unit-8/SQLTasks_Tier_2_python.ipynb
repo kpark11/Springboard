{
 "cells": [
  {
   "cell_type": "code",
   "execution_count": 202,
   "id": "5fec7211",
   "metadata": {},
   "outputs": [],
   "source": [
    "import sqlite3\n",
    "import pandas as pd"
   ]
  },
  {
   "cell_type": "code",
   "execution_count": 203,
   "id": "933d78ac",
   "metadata": {},
   "outputs": [],
   "source": [
    "con = sqlite3.connect('sqlite_db_pythonsqlite.db')"
   ]
  },
  {
   "cell_type": "code",
   "execution_count": 204,
   "id": "1d44faaf",
   "metadata": {},
   "outputs": [],
   "source": [
    "cur = con.cursor()"
   ]
  },
  {
   "cell_type": "code",
   "execution_count": 205,
   "id": "120aef6d",
   "metadata": {},
   "outputs": [
    {
     "data": {
      "text/html": [
       "<div>\n",
       "<style scoped>\n",
       "    .dataframe tbody tr th:only-of-type {\n",
       "        vertical-align: middle;\n",
       "    }\n",
       "\n",
       "    .dataframe tbody tr th {\n",
       "        vertical-align: top;\n",
       "    }\n",
       "\n",
       "    .dataframe thead th {\n",
       "        text-align: right;\n",
       "    }\n",
       "</style>\n",
       "<table border=\"1\" class=\"dataframe\">\n",
       "  <thead>\n",
       "    <tr style=\"text-align: right;\">\n",
       "      <th></th>\n",
       "      <th>0</th>\n",
       "      <th>1</th>\n",
       "      <th>2</th>\n",
       "      <th>3</th>\n",
       "      <th>4</th>\n",
       "    </tr>\n",
       "  </thead>\n",
       "  <tbody>\n",
       "    <tr>\n",
       "      <th>0</th>\n",
       "      <td>0</td>\n",
       "      <td>3</td>\n",
       "      <td>1</td>\n",
       "      <td>2012-07-03 11:00:00</td>\n",
       "      <td>2</td>\n",
       "    </tr>\n",
       "    <tr>\n",
       "      <th>1</th>\n",
       "      <td>1</td>\n",
       "      <td>4</td>\n",
       "      <td>1</td>\n",
       "      <td>2012-07-03 08:00:00</td>\n",
       "      <td>2</td>\n",
       "    </tr>\n",
       "    <tr>\n",
       "      <th>2</th>\n",
       "      <td>2</td>\n",
       "      <td>6</td>\n",
       "      <td>0</td>\n",
       "      <td>2012-07-03 18:00:00</td>\n",
       "      <td>2</td>\n",
       "    </tr>\n",
       "    <tr>\n",
       "      <th>3</th>\n",
       "      <td>3</td>\n",
       "      <td>7</td>\n",
       "      <td>1</td>\n",
       "      <td>2012-07-03 19:00:00</td>\n",
       "      <td>2</td>\n",
       "    </tr>\n",
       "    <tr>\n",
       "      <th>4</th>\n",
       "      <td>4</td>\n",
       "      <td>8</td>\n",
       "      <td>1</td>\n",
       "      <td>2012-07-03 10:00:00</td>\n",
       "      <td>1</td>\n",
       "    </tr>\n",
       "  </tbody>\n",
       "</table>\n",
       "</div>"
      ],
      "text/plain": [
       "   0  1  2                    3  4\n",
       "0  0  3  1  2012-07-03 11:00:00  2\n",
       "1  1  4  1  2012-07-03 08:00:00  2\n",
       "2  2  6  0  2012-07-03 18:00:00  2\n",
       "3  3  7  1  2012-07-03 19:00:00  2\n",
       "4  4  8  1  2012-07-03 10:00:00  1"
      ]
     },
     "execution_count": 205,
     "metadata": {},
     "output_type": "execute_result"
    }
   ],
   "source": [
    "rs = cur.execute('select * from Bookings')\n",
    "df_booking = pd.DataFrame(cur.fetchall())\n",
    "df_booking.head()"
   ]
  },
  {
   "cell_type": "code",
   "execution_count": 206,
   "id": "0c4218e3",
   "metadata": {},
   "outputs": [
    {
     "data": {
      "text/html": [
       "<div>\n",
       "<style scoped>\n",
       "    .dataframe tbody tr th:only-of-type {\n",
       "        vertical-align: middle;\n",
       "    }\n",
       "\n",
       "    .dataframe tbody tr th {\n",
       "        vertical-align: top;\n",
       "    }\n",
       "\n",
       "    .dataframe thead th {\n",
       "        text-align: right;\n",
       "    }\n",
       "</style>\n",
       "<table border=\"1\" class=\"dataframe\">\n",
       "  <thead>\n",
       "    <tr style=\"text-align: right;\">\n",
       "      <th></th>\n",
       "      <th>0</th>\n",
       "      <th>1</th>\n",
       "      <th>2</th>\n",
       "      <th>3</th>\n",
       "      <th>4</th>\n",
       "      <th>5</th>\n",
       "    </tr>\n",
       "  </thead>\n",
       "  <tbody>\n",
       "    <tr>\n",
       "      <th>0</th>\n",
       "      <td>0</td>\n",
       "      <td>Tennis Court 1</td>\n",
       "      <td>5.0</td>\n",
       "      <td>25.0</td>\n",
       "      <td>10000</td>\n",
       "      <td>200</td>\n",
       "    </tr>\n",
       "    <tr>\n",
       "      <th>1</th>\n",
       "      <td>1</td>\n",
       "      <td>Tennis Court 2</td>\n",
       "      <td>5.0</td>\n",
       "      <td>25.0</td>\n",
       "      <td>8000</td>\n",
       "      <td>200</td>\n",
       "    </tr>\n",
       "    <tr>\n",
       "      <th>2</th>\n",
       "      <td>2</td>\n",
       "      <td>Badminton Court</td>\n",
       "      <td>0.0</td>\n",
       "      <td>15.5</td>\n",
       "      <td>4000</td>\n",
       "      <td>50</td>\n",
       "    </tr>\n",
       "    <tr>\n",
       "      <th>3</th>\n",
       "      <td>3</td>\n",
       "      <td>Table Tennis</td>\n",
       "      <td>0.0</td>\n",
       "      <td>5.0</td>\n",
       "      <td>320</td>\n",
       "      <td>10</td>\n",
       "    </tr>\n",
       "    <tr>\n",
       "      <th>4</th>\n",
       "      <td>4</td>\n",
       "      <td>Massage Room 1</td>\n",
       "      <td>9.9</td>\n",
       "      <td>80.0</td>\n",
       "      <td>4000</td>\n",
       "      <td>3000</td>\n",
       "    </tr>\n",
       "  </tbody>\n",
       "</table>\n",
       "</div>"
      ],
      "text/plain": [
       "   0                1    2     3      4     5\n",
       "0  0   Tennis Court 1  5.0  25.0  10000   200\n",
       "1  1   Tennis Court 2  5.0  25.0   8000   200\n",
       "2  2  Badminton Court  0.0  15.5   4000    50\n",
       "3  3     Table Tennis  0.0   5.0    320    10\n",
       "4  4   Massage Room 1  9.9  80.0   4000  3000"
      ]
     },
     "execution_count": 206,
     "metadata": {},
     "output_type": "execute_result"
    }
   ],
   "source": [
    "rs = cur.execute('select * from Facilities')\n",
    "df_facilities = pd.DataFrame(cur.fetchall())\n",
    "df_facilities.head()"
   ]
  },
  {
   "cell_type": "code",
   "execution_count": 207,
   "id": "61a46049",
   "metadata": {},
   "outputs": [
    {
     "data": {
      "text/html": [
       "<div>\n",
       "<style scoped>\n",
       "    .dataframe tbody tr th:only-of-type {\n",
       "        vertical-align: middle;\n",
       "    }\n",
       "\n",
       "    .dataframe tbody tr th {\n",
       "        vertical-align: top;\n",
       "    }\n",
       "\n",
       "    .dataframe thead th {\n",
       "        text-align: right;\n",
       "    }\n",
       "</style>\n",
       "<table border=\"1\" class=\"dataframe\">\n",
       "  <thead>\n",
       "    <tr style=\"text-align: right;\">\n",
       "      <th></th>\n",
       "      <th>0</th>\n",
       "      <th>1</th>\n",
       "      <th>2</th>\n",
       "      <th>3</th>\n",
       "      <th>4</th>\n",
       "      <th>5</th>\n",
       "      <th>6</th>\n",
       "      <th>7</th>\n",
       "    </tr>\n",
       "  </thead>\n",
       "  <tbody>\n",
       "    <tr>\n",
       "      <th>0</th>\n",
       "      <td>0</td>\n",
       "      <td>GUEST</td>\n",
       "      <td>GUEST</td>\n",
       "      <td>GUEST</td>\n",
       "      <td>0</td>\n",
       "      <td>(000) 000-0000</td>\n",
       "      <td></td>\n",
       "      <td>2012-07-01 00:00:00</td>\n",
       "    </tr>\n",
       "    <tr>\n",
       "      <th>1</th>\n",
       "      <td>1</td>\n",
       "      <td>Smith</td>\n",
       "      <td>Darren</td>\n",
       "      <td>8 Bloomsbury Close, Boston</td>\n",
       "      <td>4321</td>\n",
       "      <td>555-555-5555</td>\n",
       "      <td></td>\n",
       "      <td>2012-07-02 12:02:05</td>\n",
       "    </tr>\n",
       "    <tr>\n",
       "      <th>2</th>\n",
       "      <td>2</td>\n",
       "      <td>Smith</td>\n",
       "      <td>Tracy</td>\n",
       "      <td>8 Bloomsbury Close, New York</td>\n",
       "      <td>4321</td>\n",
       "      <td>555-555-5555</td>\n",
       "      <td></td>\n",
       "      <td>2012-07-02 12:08:23</td>\n",
       "    </tr>\n",
       "    <tr>\n",
       "      <th>3</th>\n",
       "      <td>3</td>\n",
       "      <td>Rownam</td>\n",
       "      <td>Tim</td>\n",
       "      <td>23 Highway Way, Boston</td>\n",
       "      <td>23423</td>\n",
       "      <td>(844) 693-0723</td>\n",
       "      <td></td>\n",
       "      <td>2012-07-03 09:32:15</td>\n",
       "    </tr>\n",
       "    <tr>\n",
       "      <th>4</th>\n",
       "      <td>4</td>\n",
       "      <td>Joplette</td>\n",
       "      <td>Janice</td>\n",
       "      <td>20 Crossing Road, New York</td>\n",
       "      <td>234</td>\n",
       "      <td>(833) 942-4710</td>\n",
       "      <td>1</td>\n",
       "      <td>2012-07-03 10:25:05</td>\n",
       "    </tr>\n",
       "  </tbody>\n",
       "</table>\n",
       "</div>"
      ],
      "text/plain": [
       "   0         1       2                             3      4               5  \\\n",
       "0  0     GUEST   GUEST                         GUEST      0  (000) 000-0000   \n",
       "1  1     Smith  Darren    8 Bloomsbury Close, Boston   4321    555-555-5555   \n",
       "2  2     Smith   Tracy  8 Bloomsbury Close, New York   4321    555-555-5555   \n",
       "3  3    Rownam     Tim        23 Highway Way, Boston  23423  (844) 693-0723   \n",
       "4  4  Joplette  Janice    20 Crossing Road, New York    234  (833) 942-4710   \n",
       "\n",
       "   6                    7  \n",
       "0     2012-07-01 00:00:00  \n",
       "1     2012-07-02 12:02:05  \n",
       "2     2012-07-02 12:08:23  \n",
       "3     2012-07-03 09:32:15  \n",
       "4  1  2012-07-03 10:25:05  "
      ]
     },
     "execution_count": 207,
     "metadata": {},
     "output_type": "execute_result"
    }
   ],
   "source": [
    "rs = cur.execute('select * from Members')\n",
    "df_members = pd.DataFrame(cur.fetchall())\n",
    "df_members.head()"
   ]
  },
  {
   "cell_type": "markdown",
   "id": "c4801108",
   "metadata": {},
   "source": [
    "# Q10"
   ]
  },
  {
   "cell_type": "code",
   "execution_count": 208,
   "id": "d0a11cdd",
   "metadata": {},
   "outputs": [
    {
     "name": "stdout",
     "output_type": "stream",
     "text": [
      "[('Table Tennis', 90), ('Snooker Table', 115), ('Pool Table', 265), ('Badminton Court', 604.5)]\n"
     ]
    }
   ],
   "source": [
    "cur.execute(\"\"\"SELECT \n",
    "                    f.name, \n",
    "                    SUM(f.revenue) as total_revenue\n",
    "                FROM (SELECT \n",
    "                          sub_f.name,\n",
    "                          CASE WHEN sub_b.memid = 0 THEN sub_f.guestcost \n",
    "                            ELSE sub_f.membercost END AS revenue,\n",
    "                          sub_f.facid\n",
    "                      FROM Facilities AS sub_f\n",
    "                      LEFT JOIN Bookings AS sub_b\n",
    "                      ON sub_f.facid = sub_b.facid) as f\n",
    "                GROUP BY f.facid\n",
    "                HAVING total_revenue < 1000\n",
    "                ORDER BY total_revenue;\"\"\")\n",
    "print(cur.fetchall())"
   ]
  },
  {
   "cell_type": "markdown",
   "id": "74805aef",
   "metadata": {},
   "source": [
    "# Q11"
   ]
  },
  {
   "cell_type": "code",
   "execution_count": 209,
   "id": "61a4b95d",
   "metadata": {},
   "outputs": [
    {
     "name": "stdout",
     "output_type": "stream",
     "text": [
      "[('GUEST GUEST', None), ('Darren Smith', None), ('Tracy Smith', None), ('Tim Rownam', None), ('Janice Joplette', 'Darren Smith'), ('Gerald Butters', 'Darren Smith'), ('Burton Tracy', None), ('Nancy Dare', 'Janice Joplette'), ('Tim Boothe', 'Tim Rownam'), ('Ponder Stibbons', 'Burton Tracy'), ('Charles Owen', 'Darren Smith'), ('David Jones', 'Janice Joplette'), ('Anne Baker', 'Ponder Stibbons'), ('Jemima Farrell', None), ('Jack Smith', 'Darren Smith'), ('Florence Bader', 'Ponder Stibbons'), ('Timothy Baker', 'Jemima Farrell'), ('David Pinker', 'Jemima Farrell'), ('Matthew Genting', 'Gerald Butters'), ('Anna Mackenzie', 'Darren Smith'), ('Joan Coplin', 'Timothy Baker'), ('Ramnaresh Sarwin', 'Florence Bader'), ('Douglas Jones', 'David Jones'), ('Henrietta Rumney', 'Matthew Genting'), ('David Farrell', None), ('Henry Worthington-Smyth', 'Tracy Smith'), ('Millicent Purview', 'Tracy Smith'), ('Hyacinth Tupperware', None), ('John Hunt', 'Millicent Purview'), ('Erica Crumpet', 'Tracy Smith'), ('Darren Smith', None)]\n"
     ]
    }
   ],
   "source": [
    "cur.execute(\"\"\"SELECT \n",
    "                    m.firstname || ' ' || m.surname,\n",
    "                    CASE WHEN m.recommendedby in (SELECT memid FROM Members) \n",
    "                    THEN m1.firstname||' '||m1.surname END AS recommender\n",
    "                FROM Members as m\n",
    "                LEFT JOIN Members as m1\n",
    "                on m.recommendedby = m1.memid;\"\"\")\n",
    "print(cur.fetchall())"
   ]
  },
  {
   "cell_type": "markdown",
   "id": "365f09c9",
   "metadata": {},
   "source": [
    "# Q12"
   ]
  },
  {
   "cell_type": "code",
   "execution_count": 361,
   "id": "a574e185",
   "metadata": {},
   "outputs": [
    {
     "name": "stdout",
     "output_type": "stream",
     "text": [
      "[('Tennis Court 1', 10.094012864918357), ('Tennis Court 2', 9.623948540326571), ('Badminton Court', 9.475507174666006), ('Table Tennis', 9.945571499257793), ('Massage Room 1', 15.561603166749133), ('Massage Room 2', 2.7461652647204358), ('Squash Court', 10.885700148441366), ('Snooker Table', 10.984661058881743), ('Pool Table', 20.682830282038594)]\n"
     ]
    }
   ],
   "source": [
    "cur.execute(\"\"\"SELECT \n",
    "                    f.name, \n",
    "                    COUNT(b.facid)/(SELECT COUNT(*)*1.0 FROM Bookings WHERE bookid != 0)*100 AS usage_percentage\n",
    "                FROM Facilities AS f\n",
    "                LEFT JOIN Bookings AS b\n",
    "                ON f.facid = b.facid\n",
    "                WHERE b.bookid != 0\n",
    "                GROUP BY f.facid\n",
    "                ;\"\"\")\n",
    "print(cur.fetchall())"
   ]
  },
  {
   "cell_type": "markdown",
   "id": "67a9e1cb",
   "metadata": {},
   "source": [
    "# Q13"
   ]
  },
  {
   "cell_type": "code",
   "execution_count": 393,
   "id": "2ed6fe5f",
   "metadata": {},
   "outputs": [
    {
     "name": "stdout",
     "output_type": "stream",
     "text": [
      "[('Tennis Court 1', '07', 13.39421613394216), ('Tennis Court 1', '08', 9.918478260869565), ('Tennis Court 1', '09', 9.09566126502875), ('Tennis Court 2', '07', 10.350076103500761), ('Tennis Court 2', '08', 10.122282608695652), ('Tennis Court 2', '09', 8.991113434396237), ('Badminton Court', '07', 8.52359208523592), ('Badminton Court', '08', 9.918478260869565), ('Badminton Court', '09', 9.46157867224255), ('Table Tennis', '07', 7.610350076103501), ('Table Tennis', '08', 9.986413043478262), ('Table Tennis', '09', 10.716152639832725), ('Massage Room 1', '07', 18.72146118721461), ('Massage Room 1', '08', 15.217391304347828), ('Massage Room 1', '09', 14.741244119184527), ('Massage Room 2', '07', 1.82648401826484), ('Massage Room 2', '08', 2.717391304347826), ('Massage Room 2', '09', 3.0841610036591742), ('Squash Court', '07', 11.415525114155251), ('Squash Court', '08', 11.548913043478262), ('Squash Court', '09', 10.193413486670151), ('Snooker Table', '07', 11.415525114155251), ('Snooker Table', '08', 10.801630434782608), ('Snooker Table', '09', 10.977522216414009), ('Pool Table', '07', 16.7427701674277), ('Pool Table', '08', 19.769021739130434), ('Pool Table', '09', 22.739153162571878)]\n"
     ]
    }
   ],
   "source": [
    "cur.execute(\"\"\"SELECT \n",
    "                    f.name, \n",
    "                    b2.month,\n",
    "                    (b1.usage*1.0\n",
    "                    /\n",
    "                    b2.total_usage*1.0\n",
    "                    )*100.0 AS monthly_usage_percentage\n",
    "                FROM Facilities AS f\n",
    "                LEFT JOIN (SELECT \n",
    "                                COUNT(strftime('%m',starttime)) as usage, \n",
    "                                strftime('%m',starttime) as month,\n",
    "                                facid,\n",
    "                                bookid\n",
    "                            FROM Bookings\n",
    "                            WHERE bookid != 0\n",
    "                            GROUP BY strftime('%m',starttime), facid) AS b1\n",
    "                ON f.facid = b1.facid\n",
    "                LEFT JOIN (SELECT \n",
    "                                COUNT(strftime('%m',starttime)) as total_usage, \n",
    "                                strftime('%m',starttime) as month,\n",
    "                                facid,\n",
    "                                bookid\n",
    "                            FROM Bookings\n",
    "                            WHERE bookid != 0\n",
    "                            GROUP BY strftime('%m',starttime)) AS b2\n",
    "                ON b1.month = b2.month\n",
    "                ;\"\"\")\n",
    "print(cur.fetchall())"
   ]
  }
 ],
 "metadata": {
  "kernelspec": {
   "display_name": "Python 3 (ipykernel)",
   "language": "python",
   "name": "python3"
  },
  "language_info": {
   "codemirror_mode": {
    "name": "ipython",
    "version": 3
   },
   "file_extension": ".py",
   "mimetype": "text/x-python",
   "name": "python",
   "nbconvert_exporter": "python",
   "pygments_lexer": "ipython3",
   "version": "3.11.5"
  }
 },
 "nbformat": 4,
 "nbformat_minor": 5
}
